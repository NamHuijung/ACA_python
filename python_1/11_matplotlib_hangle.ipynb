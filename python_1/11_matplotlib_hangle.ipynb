{
 "cells": [
  {
   "cell_type": "code",
   "execution_count": 1,
   "id": "721312bc",
   "metadata": {},
   "outputs": [],
   "source": [
    "import warnings\n",
    "warnings.filterwarnings('ignore')\n",
    "from IPython.display import Image\n",
    "import numpy as np\n",
    "import pandas as pd\n",
    "import seaborn as sns"
   ]
  },
  {
   "cell_type": "code",
   "execution_count": 2,
   "id": "14c9c311",
   "metadata": {},
   "outputs": [],
   "source": [
    "# 시각화 작업에 필요한 라이브러리를 설치하고 import mgksek.\n",
    "# !pip install matplotlib\n",
    "\n",
    "import matplotlib.pyplot as plt # 그래프\n",
    "import matplotlib as mpl\n",
    "import matplotlib.font_manager as fm # 한글 때문에 import\n",
    "\n",
    "# 한글 폰트를 사용할 때 마이너스 데이터가 깨져보이는 문제를 해결한다.\n",
    "mpl.rcParams['axes.unicode_minus'] = False\n",
    "\n",
    "# 그래프를 주피터 노트북 내부에 표시하기 위해 사용한다. (그래프가 안 보일 때 사용)\n",
    "%matplotlib inline"
   ]
  },
  {
   "cell_type": "code",
   "execution_count": 3,
   "id": "a0962e77",
   "metadata": {},
   "outputs": [
    {
     "data": {
      "text/plain": [
       "array([  64,   41,  104,  196,  271,  211,  214,  301,  344,  416,  502,\n",
       "        529,  604,  650,  631,  642,  696,  786,  856,  911,  830,  928,\n",
       "        860,  914,  909,  977, 1022,  923, 1022,  969,  911,  835,  876,\n",
       "        865,  783,  789,  713,  737,  825,  922,  996,  911, 1005, 1092,\n",
       "       1161, 1255, 1337, 1303, 1277, 1327], dtype=int32)"
      ]
     },
     "execution_count": 3,
     "metadata": {},
     "output_type": "execute_result"
    }
   ],
   "source": [
    "# 그래프를 그리기 위한 데이터를 만든다.\n",
    "data = np.random.randint(-100, 100, 50).cumsum() # 누적 합계\n",
    "data"
   ]
  },
  {
   "cell_type": "code",
   "execution_count": null,
   "id": "d9768278",
   "metadata": {},
   "outputs": [],
   "source": [
    "# matplotlib의 기본 폰트로 sans-serif가 지정되어 있기 때문에 한글이 깨져서 보인다.\n",
    "plt.plot(range(50), data, 'b') # x축 0부터 50까지\n",
    "plt.rcParams['figure.figsize'] = (20, 7) # 차트 크기 사이즈 변경\n",
    "plt.title('시간별 가격 추이') # 차트 제목\n",
    "plt.ylabel('가격') # y축 제목\n",
    "plt.xlabel('가격') # x축 제목\n",
    "plt.show()"
   ]
  },
  {
   "cell_type": "code",
   "execution_count": null,
   "id": "acf99fbd",
   "metadata": {},
   "outputs": [],
   "source": [
    "# 폰트를 설정하기에 앞서 matplotlib의 설정 정보(버전, 위치)를 확인한다.\n",
    "print('버전 :', mpl.__version__)\n",
    "print('설치위치 :', mpl.__file__)\n",
    "print('설정위치 :', mpl.get_configdir())\n",
    "print('캐시위치 :', mpl.get_cachedir())"
   ]
  },
  {
   "cell_type": "code",
   "execution_count": null,
   "id": "b98608f9",
   "metadata": {},
   "outputs": [],
   "source": [
    "# matplotlib의 설정 파일 위치를 확인한다.\n",
    "print('설정 파일위치 :', mpl.matplotlib_fname())"
   ]
  },
  {
   "cell_type": "code",
   "execution_count": null,
   "id": "3a343e74",
   "metadata": {},
   "outputs": [],
   "source": [
    "# 컴퓨터에 설치된 폰트 목록을 얻어온다.\n",
    "font_list = fm.findSystemFonts(fontpaths=None, fontext='ttf')\n",
    "print(len(font_list)) # 컴퓨터에 저장된 글꼴의 개수 = 772\n",
    "print(font_list[:10])"
   ]
  },
  {
   "cell_type": "code",
   "execution_count": null,
   "id": "61289a99",
   "metadata": {},
   "outputs": [],
   "source": [
    "font_list = [f.name for f in fm.fontManager.ttflist] \n",
    "# ttflist : 폰트 파일 리스트\n",
    "# ttflist가 f로 전달되고 f 중에서 name(글꼴이름)만 불러온다\n",
    "\n",
    "print(len(font_list))\n",
    "print(font_list[:10]) "
   ]
  },
  {
   "cell_type": "code",
   "execution_count": null,
   "id": "777c7691",
   "metadata": {},
   "outputs": [],
   "source": [
    "# 나눔 글꼴을 사용할 예정이므로 이름에 'Nanum'이 포함된 폰트만 가져온다.\n",
    "# .name : 폰트 이름(글꼴이름), .fname : 글꼴이 다운된 경로 포함\n",
    "\n",
    "# fm.fontManager.ttflist : 폰트 목록\n",
    "# 폰트 목록에 있는 데이터가 하나씩 f로 이동\n",
    "# (글꼴 이름, 글꼴이 설치된 경로)를 튜플로 출력\n",
    "# 글꼴 중에서 'Nanum'(나눔)이 포함된 글꼴만 가져와라\n",
    "font_list = [(f.name, f.fname) for f in fm.fontManager.ttflist if 'Nanum' in f.name]\n",
    "font_list"
   ]
  },
  {
   "cell_type": "code",
   "execution_count": null,
   "id": "42d2b3a0",
   "metadata": {},
   "outputs": [],
   "source": [
    "# 위의 식을 실행한 결과가 []로 나오면 캐시 폴더로 이동해 폴더의 모든 내용을 삭제한 후 실행해본다.\n",
    "# 위에서 찾은 캐시 위치 : C:\\Users\\Huijung\\AppData\\Roaming\\SPB_Data\\.matplotlib\n",
    "\n",
    "# 그래도 안되면 아래의 식을 실행한다.\n",
    "# mpl.font_mannager._rebuild()"
   ]
  },
  {
   "cell_type": "markdown",
   "id": "9a0a56b2",
   "metadata": {},
   "source": [
    "한글 폰트를 사용하는 방법은 3가지가 있다."
   ]
  },
  {
   "cell_type": "code",
   "execution_count": null,
   "id": "5b3ed67b",
   "metadata": {},
   "outputs": [],
   "source": [
    "# 1. FontProperties를 사용하는 방법 : 그래프의 폰트가 필요한 항목마다 지정한다.\n",
    "# 텍스트를 지정하는 항목에 지정해서 사용할 수 있고 지정해준 항목에만 해당 폰트가 적용된다.\n",
    "\n",
    "# matplotlib.pyplot에서 지원하는 메서드\n",
    "# => title(), xlabel(), ylabel(), legend()(범례), text() ...\n",
    "\n",
    "# matplotlib.axes에서 지원하는 메서드\n",
    "# => set_title()"
   ]
  },
  {
   "cell_type": "code",
   "execution_count": null,
   "id": "1ae80b45",
   "metadata": {},
   "outputs": [],
   "source": [
    "# 한글 폰트 파일의 경로와 이름을 지정한다.\n",
    "font = 'C:\\\\WINDOWS\\\\Fonts\\\\NanumGothicCoding.ttf'\n",
    "fontprop = fm.FontProperties(fname=font, size=15)"
   ]
  },
  {
   "cell_type": "code",
   "execution_count": null,
   "id": "e483b845",
   "metadata": {},
   "outputs": [],
   "source": [
    "plt.plot(range(50), data, 'b') # x축 0부터 50까지\n",
    "plt.rcParams['figure.figsize'] = (20, 7) # 차트 크기 사이즈 변경\n",
    "plt.title('시간별 가격 추이', fontproperties=fontprop) # 차트 제목\n",
    "plt.ylabel('가격', fontproperties=fontprop) # y축 제목\n",
    "plt.xlabel('가격', fontproperties=fontprop) # x축 제목\n",
    "plt.show()\n",
    "\n",
    "# fontproperties=fontprop 추가로 한글 폰트가 깨지지 않는다."
   ]
  },
  {
   "cell_type": "code",
   "execution_count": null,
   "id": "d614a796",
   "metadata": {},
   "outputs": [],
   "source": [
    "# 2. matplotlib 라이브러리의 rcParams[]로 전역 글꼴로 설정한다. \n",
    "# => 주피터 노트북에서 파일을 실행할 때 마다 해줘야 한다.\n",
    "print('기본으로 설정된 폰트 크기:', plt.rcParams['font.size'])\n",
    "print('기본으로 설정된 폰트 설정:', plt.rcParams['font.family'])"
   ]
  },
  {
   "cell_type": "code",
   "execution_count": null,
   "id": "3aba2727",
   "metadata": {},
   "outputs": [],
   "source": [
    "# 2-1\n",
    "plt.rcParams['font.size'] = 15\n",
    "plt.rcParams['font.family'] = 'NanumGothicCoding'"
   ]
  },
  {
   "cell_type": "code",
   "execution_count": null,
   "id": "c47de8b6",
   "metadata": {},
   "outputs": [],
   "source": [
    "plt.plot(range(50), data, 'm')\n",
    "plt.rcParams['figure.figsize'] = (12, 7)\n",
    "plt.title('시간별 가격 추이')\n",
    "plt.ylabel('가격')\n",
    "plt.xlabel('시간')\n",
    "plt.show()"
   ]
  },
  {
   "cell_type": "code",
   "execution_count": null,
   "id": "f32473ea",
   "metadata": {},
   "outputs": [],
   "source": [
    "# 2-2\n",
    "# rcParams[] 대신 FontProperties의 plt.rc를 사용하는 방법\n",
    "\n",
    "font = 'C:\\\\Windows\\\\Fonts\\\\NanumGothicCoding.ttf'\n",
    "font_name = fm.FontProperties(fname=font, size=15).get_name()\n",
    "print(font_name) # NanumGothicCoding\n",
    "plt.rc('font', family=font_name)"
   ]
  },
  {
   "cell_type": "code",
   "execution_count": null,
   "id": "a9bc988c",
   "metadata": {},
   "outputs": [],
   "source": [
    "plt.plot(range(50), data, 'r')\n",
    "plt.rcParams['figure.figsize'] = (12, 7)\n",
    "plt.title('시간별 가격 추이')\n",
    "plt.ylabel('가격')\n",
    "plt.xlabel('시간')\n",
    "plt.show()"
   ]
  },
  {
   "cell_type": "code",
   "execution_count": null,
   "id": "7f46b6d4",
   "metadata": {},
   "outputs": [],
   "source": [
    "# 3. rcParams를 matplotlib 설정 파일에 직접 넣어준다.\n",
    "# => \"현재\" 컴퓨터의 모든 쥬피터 노트북에 적용된다.\n",
    "# font.family : NanumGothicCoding\n",
    "# 이곳에 폰트를 지정해 주면 현재 컴퓨터에서 주피터 노트북을 실행할 때마다 글꼴이 로드되도록 할 수 있다.\n",
    "# 현재 설정 파일 위치 : c:\\python_it\\lib\\site-packages\\matplotlib\\mpl-data\\matplotlibrc\n",
    "\n",
    "# 다른 pc에서는 사용하지 못한다."
   ]
  },
  {
   "cell_type": "code",
   "execution_count": 5,
   "id": "a198b720",
   "metadata": {},
   "outputs": [
    {
     "data": {
      "image/png": "[encoded data removed]",
      "text/plain": [
       "<Figure size 864x504 with 1 Axes>"
      ]
     },
     "metadata": {
      "needs_background": "light"
     },
     "output_type": "display_data"
    }
   ],
   "source": [
    "plt.plot(range(50), data, 'y')\n",
    "plt.rcParams['figure.figsize'] = (12, 7)\n",
    "plt.title('시간별 가격 추이')\n",
    "plt.ylabel('가격')\n",
    "plt.xlabel('시간')\n",
    "plt.show()"
   ]
  },
  {
   "cell_type": "code",
   "execution_count": null,
   "id": "03843299",
   "metadata": {},
   "outputs": [],
   "source": []
  }
 ],
 "metadata": {
  "kernelspec": {
   "display_name": "Python 3",
   "language": "python",
   "name": "python3"
  },
  "language_info": {
   "codemirror_mode": {
    "name": "ipython",
    "version": 3
   },
   "file_extension": ".py",
   "mimetype": "text/x-python",
   "name": "python",
   "nbconvert_exporter": "python",
   "pygments_lexer": "ipython3",
   "version": "3.6.8"
  }
 },
 "nbformat": 4,
 "nbformat_minor": 5
}
