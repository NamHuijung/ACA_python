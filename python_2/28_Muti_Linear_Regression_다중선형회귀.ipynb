{
 "cells": [
  {
   "cell_type": "code",
   "execution_count": 1,
   "id": "ae1171c7",
   "metadata": {},
   "outputs": [
    {
     "name": "stdout",
     "output_type": "stream",
     "text": [
      "WARNING:tensorflow:From c:\\python_it\\lib\\site-packages\\tensorflow\\python\\compat\\v2_compat.py:101: disable_resource_variables (from tensorflow.python.ops.variable_scope) is deprecated and will be removed in a future version.\n",
      "Instructions for updating:\n",
      "non-resource variables are not supported in the long term\n"
     ]
    }
   ],
   "source": [
    "import warnings\n",
    "warnings.filterwarnings(\"ignore\")\n",
    "import pandas as pd\n",
    "import numpy as np\n",
    "\n",
    "import tensorflow.compat.v1 as tf\n",
    "tf.disable_v2_behavior()"
   ]
  },
  {
   "cell_type": "code",
   "execution_count": 2,
   "id": "f4878616",
   "metadata": {},
   "outputs": [],
   "source": [
    "# 학습 데이터를 만든다.\n",
    "\n",
    "# [공부한 시간(x1), 과외 수업 시간(x2), 실제 성적(y)]\n",
    "data = [[2, 0, 81], [4, 4, 93], [6, 2, 91], [8, 3, 97]] \n",
    "\n",
    "xData1 = [i[0] for i in data] # 공부한 시간\n",
    "xData2 = [i[1] for i in data] # 과외 수업 시간\n",
    "yData = [i[2] for i in data] # 시험 성적 = 실제값"
   ]
  },
  {
   "cell_type": "code",
   "execution_count": 3,
   "id": "10966fbb",
   "metadata": {},
   "outputs": [
    {
     "name": "stdout",
     "output_type": "stream",
     "text": [
      "a1 = [3.9884627], a2 = [3.101964], b = [9.988713]\n"
     ]
    }
   ],
   "source": [
    "# 기울기 a1, a2, y절편 b를 임의로 정한다.\n",
    "# 기울기의 범위는 0 ~ 10 사이, y절편의 범위는 0 ~ 100 사이에서 임의로 변하게 한다.\n",
    "a1 = tf.Variable(tf.random_uniform([1], 0, 10, dtype=tf.float32))\n",
    "a2 = tf.Variable(tf.random_uniform([1], 0, 10, dtype=tf.float32))\n",
    "b = tf.Variable(tf.random_uniform([1], 0, 100, dtype=tf.float32))\n",
    "\n",
    "sess = tf.Session()\n",
    "sess.run(tf.global_variables_initializer())\n",
    "print('a1 = {}, a2 = {}, b = {}'.format(sess.run(a1), sess.run(a2), sess.run(b)))"
   ]
  },
  {
   "cell_type": "code",
   "execution_count": 4,
   "id": "9a115ee1",
   "metadata": {},
   "outputs": [],
   "source": [
    "# 예측 성적(y)을 얻기 위한 가설(수식)을 만든다.\n",
    "y = a1 * xData1 + a2 * xData2 + b # 변화요인이 2가지\n",
    "\n",
    "# tensorflow에서 실행할 RMSE(평균 제곱근 오차) 수식(오차(=비용) 함수)을 만든다.\n",
    "rmse = tf.sqrt(tf.reduce_mean(tf.square(y - yData)))\n",
    "\n",
    "# 경사 하강법 알고리즘을 이용해서 RMSE를 최소로 하는 값을 찾는 수식을 만든다.\n",
    "gradient_descent = tf.train.GradientDescentOptimizer(0.1).minimize(rmse)"
   ]
  },
  {
   "cell_type": "markdown",
   "id": "b8091f6d",
   "metadata": {},
   "source": [
    "학습 시킨다."
   ]
  },
  {
   "cell_type": "code",
   "execution_count": 5,
   "id": "c40dc521",
   "metadata": {},
   "outputs": [
    {
     "name": "stdout",
     "output_type": "stream",
     "text": [
      "Epoch :    0, RMSE : 34.1880, 기울기1 :  7.2074, 기울기2 :  8.8424, y절편 :  6.6236\n",
      "Epoch :  200, RMSE : 25.4430, 기울기1 :  9.9627, 기울기2 :  7.0121, y절편 : 14.8927\n",
      "Epoch :  400, RMSE : 22.2063, 기울기1 :  9.2966, 기울기2 :  5.5551, y절편 : 22.7706\n",
      "Epoch :  600, RMSE : 19.0265, 기울기1 :  8.3153, 기울기2 :  4.7935, y절편 : 30.6469\n",
      "Epoch :  800, RMSE : 15.8541, 기울기1 :  7.2165, 기울기2 :  4.2920, y절편 : 38.5201\n",
      "Epoch : 1000, RMSE : 12.6827, 기울기1 :  6.0809, 기울기2 :  3.8722, y절편 : 46.3917\n",
      "Epoch : 1200, RMSE :  9.5120, 기울기1 :  4.9363, 기울기2 :  3.4726, y절편 : 54.2621\n",
      "Epoch : 1400, RMSE :  6.3433, 기울기1 :  3.7906, 기울기2 :  3.0766, y절편 : 62.1301\n",
      "Epoch : 1600, RMSE :  3.1820, 기울기1 :  2.6460, 기울기2 :  2.6814, y절편 : 69.9889\n",
      "Epoch : 1800, RMSE :  1.8359, 기울기1 :  1.4758, 기울기2 :  2.2499, y절편 : 76.2450\n",
      "Epoch : 2000, RMSE :  1.8370, 기울기1 :  1.2710, 기울기2 :  2.1774, y절편 : 77.5348\n",
      "Epoch : 2200, RMSE :  1.8370, 기울기1 :  1.2372, 기울기2 :  2.1657, y절편 : 77.7628\n",
      "Epoch : 2400, RMSE :  1.8370, 기울기1 :  1.2314, 기울기2 :  2.1637, y절편 : 77.8031\n",
      "Epoch : 2600, RMSE :  1.8370, 기울기1 :  1.2303, 기울기2 :  2.1633, y절편 : 77.8102\n",
      "Epoch : 2800, RMSE :  1.8371, 기울기1 :  1.2301, 기울기2 :  2.1633, y절편 : 77.8113\n",
      "Epoch : 3000, RMSE :  1.8371, 기울기1 :  1.2301, 기울기2 :  2.1633, y절편 : 77.8113\n"
     ]
    }
   ],
   "source": [
    "import time\n",
    "\n",
    "sess = tf.Session()\n",
    "sess.run(tf.global_variables_initializer())\n",
    "\n",
    "for i in range(3001) :\n",
    "    sess.run(gradient_descent)\n",
    "    \n",
    "    if (i % 200 == 0) :\n",
    "        print('Epoch : {0:4d}, RMSE : {1:7.4f}, 기울기1 : {2:7.4f}, 기울기2 : {3:7.4f}, y절편 : {4:7.4f}'\n",
    "              .format(i, sess.run(rmse), sess.run(a1)[0], sess.run(a2)[0], sess.run(b)[0]))\n",
    "        time.sleep(0.25)"
   ]
  },
  {
   "cell_type": "code",
   "execution_count": null,
   "id": "47fd0366",
   "metadata": {},
   "outputs": [],
   "source": []
  }
 ],
 "metadata": {
  "kernelspec": {
   "display_name": "Python 3",
   "language": "python",
   "name": "python3"
  },
  "language_info": {
   "codemirror_mode": {
    "name": "ipython",
    "version": 3
   },
   "file_extension": ".py",
   "mimetype": "text/x-python",
   "name": "python",
   "nbconvert_exporter": "python",
   "pygments_lexer": "ipython3",
   "version": "3.6.8"
  }
 },
 "nbformat": 4,
 "nbformat_minor": 5
}
