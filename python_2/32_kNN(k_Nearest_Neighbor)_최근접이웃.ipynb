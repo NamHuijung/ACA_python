{
 "cells": [
  {
   "cell_type": "code",
   "execution_count": 1,
   "id": "61e5fdfc",
   "metadata": {},
   "outputs": [],
   "source": [
    "import warnings\n",
    "warnings.filterwarnings('ignore')"
   ]
  },
  {
   "cell_type": "markdown",
   "id": "5cea97e2",
   "metadata": {},
   "source": [
    "데이터 획득"
   ]
  },
  {
   "cell_type": "code",
   "execution_count": 3,
   "id": "72c27f69",
   "metadata": {},
   "outputs": [
    {
     "name": "stdout",
     "output_type": "stream",
     "text": [
      "<class 'pandas.core.frame.DataFrame'>\n"
     ]
    },
    {
     "data": {
      "text/html": [
       "<div>\n",
       "<style scoped>\n",
       "    .dataframe tbody tr th:only-of-type {\n",
       "        vertical-align: middle;\n",
       "    }\n",
       "\n",
       "    .dataframe tbody tr th {\n",
       "        vertical-align: top;\n",
       "    }\n",
       "\n",
       "    .dataframe thead th {\n",
       "        text-align: right;\n",
       "    }\n",
       "</style>\n",
       "<table border=\"1\" class=\"dataframe\">\n",
       "  <thead>\n",
       "    <tr style=\"text-align: right;\">\n",
       "      <th></th>\n",
       "      <th>Player</th>\n",
       "      <th>Pos</th>\n",
       "      <th>3P</th>\n",
       "      <th>2P</th>\n",
       "      <th>TRB</th>\n",
       "      <th>AST</th>\n",
       "      <th>STL</th>\n",
       "      <th>BLK</th>\n",
       "    </tr>\n",
       "  </thead>\n",
       "  <tbody>\n",
       "    <tr>\n",
       "      <th>0</th>\n",
       "      <td>Alex Abrines</td>\n",
       "      <td>SG</td>\n",
       "      <td>1.4</td>\n",
       "      <td>0.6</td>\n",
       "      <td>1.3</td>\n",
       "      <td>0.6</td>\n",
       "      <td>0.5</td>\n",
       "      <td>0.1</td>\n",
       "    </tr>\n",
       "    <tr>\n",
       "      <th>1</th>\n",
       "      <td>Steven Adams</td>\n",
       "      <td>C</td>\n",
       "      <td>0.0</td>\n",
       "      <td>4.7</td>\n",
       "      <td>7.7</td>\n",
       "      <td>1.1</td>\n",
       "      <td>1.1</td>\n",
       "      <td>1.0</td>\n",
       "    </tr>\n",
       "    <tr>\n",
       "      <th>2</th>\n",
       "      <td>Alexis Ajinca</td>\n",
       "      <td>C</td>\n",
       "      <td>0.0</td>\n",
       "      <td>2.3</td>\n",
       "      <td>4.5</td>\n",
       "      <td>0.3</td>\n",
       "      <td>0.5</td>\n",
       "      <td>0.6</td>\n",
       "    </tr>\n",
       "    <tr>\n",
       "      <th>3</th>\n",
       "      <td>Chris Andersen</td>\n",
       "      <td>C</td>\n",
       "      <td>0.0</td>\n",
       "      <td>0.8</td>\n",
       "      <td>2.6</td>\n",
       "      <td>0.4</td>\n",
       "      <td>0.4</td>\n",
       "      <td>0.6</td>\n",
       "    </tr>\n",
       "    <tr>\n",
       "      <th>4</th>\n",
       "      <td>Will Barton</td>\n",
       "      <td>SG</td>\n",
       "      <td>1.5</td>\n",
       "      <td>3.5</td>\n",
       "      <td>4.3</td>\n",
       "      <td>3.4</td>\n",
       "      <td>0.8</td>\n",
       "      <td>0.5</td>\n",
       "    </tr>\n",
       "  </tbody>\n",
       "</table>\n",
       "</div>"
      ],
      "text/plain": [
       "           Player Pos   3P   2P  TRB  AST  STL  BLK\n",
       "0    Alex Abrines  SG  1.4  0.6  1.3  0.6  0.5  0.1\n",
       "1    Steven Adams   C  0.0  4.7  7.7  1.1  1.1  1.0\n",
       "2   Alexis Ajinca   C  0.0  2.3  4.5  0.3  0.5  0.6\n",
       "3  Chris Andersen   C  0.0  0.8  2.6  0.4  0.4  0.6\n",
       "4     Will Barton  SG  1.5  3.5  4.3  3.4  0.8  0.5"
      ]
     },
     "execution_count": 3,
     "metadata": {},
     "output_type": "execute_result"
    }
   ],
   "source": [
    "import pandas as pd\n",
    "df = pd.read_csv('./data/basketball_stat.csv')\n",
    "print(type(df))\n",
    "df.head()"
   ]
  },
  {
   "cell_type": "code",
   "execution_count": 4,
   "id": "53c8f00e",
   "metadata": {},
   "outputs": [
    {
     "data": {
      "text/plain": [
       "SG    50\n",
       "C     50\n",
       "Name: Pos, dtype: int64"
      ]
     },
     "execution_count": 4,
     "metadata": {},
     "output_type": "execute_result"
    }
   ],
   "source": [
    "df.Pos.value_counts()"
   ]
  },
  {
   "cell_type": "markdown",
   "id": "ed45d580",
   "metadata": {},
   "source": [
    "데이터 시각화"
   ]
  },
  {
   "cell_type": "code",
   "execution_count": 5,
   "id": "d306dd76",
   "metadata": {},
   "outputs": [],
   "source": [
    "import matplotlib.pyplot as plt\n",
    "import seaborn as sns"
   ]
  },
  {
   "cell_type": "code",
   "execution_count": 11,
   "id": "e71f770e",
   "metadata": {},
   "outputs": [
    {
     "data": {
      "image/png": "[encoded data removed]",
      "text/plain": [
       "<Figure size 410x360 with 1 Axes>"
      ]
     },
     "metadata": {
      "needs_background": "light"
     },
     "output_type": "display_data"
    },
    {
     "data": {
      "image/png": "[encoded data removed]",
      "text/plain": [
       "<Figure size 410x360 with 1 Axes>"
      ]
     },
     "metadata": {
      "needs_background": "light"
     },
     "output_type": "display_data"
    }
   ],
   "source": [
    "# seaborn 라이브러리의 lmplot() 함수로 스틸과 2점슛, 어시스트와 2점슛의 포지션(Pos) 별 분포도를 출력한다.\n",
    "sns.lmplot(data=df, x='STL', y='2P', fit_reg=False, # 데이터, x축, y축, 회귀선 표시 여부\n",
    "           scatter_kws={'s' : 50}, # 그래프에 표시되는 표식의 크기\n",
    "           hue='Pos', # 그래프에 표시될 범례별 색상\n",
    "           markers=['o', 'x'] #hue에 따른 표식의 종류\n",
    "          )\n",
    "plt.title('STL and 2P in 2D plane')\n",
    "sns.lmplot(data=df, x='AST', y='2P', fit_reg=False, scatter_kws={'s' : 50}, hue='Pos', markers=['o', 'x'])\n",
    "plt.title('AST and 2P in 2D plane')\n",
    "plt.show()\n",
    "# 그래프에서 나오는 선 = 회귀선"
   ]
  },
  {
   "cell_type": "code",
   "execution_count": 12,
   "id": "0b2515fb",
   "metadata": {},
   "outputs": [
    {
     "data": {
      "text/plain": [
       "Text(0.5, 1.0, 'TRB and 3P in 3D plane')"
      ]
     },
     "execution_count": 12,
     "metadata": {},
     "output_type": "execute_result"
    },
    {
     "data": {
      "image/png": "[encoded data removed]",
      "text/plain": [
       "<Figure size 410x360 with 1 Axes>"
      ]
     },
     "metadata": {
      "needs_background": "light"
     },
     "output_type": "display_data"
    },
    {
     "data": {
      "image/png": "[encoded data removed]",
      "text/plain": [
       "<Figure size 410x360 with 1 Axes>"
      ]
     },
     "metadata": {
      "needs_background": "light"
     },
     "output_type": "display_data"
    }
   ],
   "source": [
    "# seaborn 라이브러리의 lmplot() 함수로 블로킹과 3점슛, 리바운드와 3점슛의 포지션(Pos) 별 분포표를 출력한다.\n",
    "sns.lmplot(data=df, x='BLK', y='3P', fit_reg=False, scatter_kws={'s' : 50}, hue='Pos', markers=['o', 'x'])\n",
    "plt.title('BLK and 3P in 2D plane')\n",
    "\n",
    "sns.lmplot(data=df, x='TRB', y='3P', fit_reg=False, scatter_kws={'s' : 50}, hue='Pos', markers=['o', 'x'])\n",
    "plt.title('TRB and 3P in 3D plane')"
   ]
  },
  {
   "cell_type": "markdown",
   "id": "949166d3",
   "metadata": {},
   "source": [
    "데이터 다듬기"
   ]
  },
  {
   "cell_type": "code",
   "execution_count": 13,
   "id": "290a3eda",
   "metadata": {},
   "outputs": [
    {
     "data": {
      "text/html": [
       "<div>\n",
       "<style scoped>\n",
       "    .dataframe tbody tr th:only-of-type {\n",
       "        vertical-align: middle;\n",
       "    }\n",
       "\n",
       "    .dataframe tbody tr th {\n",
       "        vertical-align: top;\n",
       "    }\n",
       "\n",
       "    .dataframe thead th {\n",
       "        text-align: right;\n",
       "    }\n",
       "</style>\n",
       "<table border=\"1\" class=\"dataframe\">\n",
       "  <thead>\n",
       "    <tr style=\"text-align: right;\">\n",
       "      <th></th>\n",
       "      <th>Player</th>\n",
       "      <th>Pos</th>\n",
       "      <th>3P</th>\n",
       "      <th>TRB</th>\n",
       "      <th>BLK</th>\n",
       "    </tr>\n",
       "  </thead>\n",
       "  <tbody>\n",
       "    <tr>\n",
       "      <th>0</th>\n",
       "      <td>Alex Abrines</td>\n",
       "      <td>SG</td>\n",
       "      <td>1.4</td>\n",
       "      <td>1.3</td>\n",
       "      <td>0.1</td>\n",
       "    </tr>\n",
       "    <tr>\n",
       "      <th>1</th>\n",
       "      <td>Steven Adams</td>\n",
       "      <td>C</td>\n",
       "      <td>0.0</td>\n",
       "      <td>7.7</td>\n",
       "      <td>1.0</td>\n",
       "    </tr>\n",
       "    <tr>\n",
       "      <th>2</th>\n",
       "      <td>Alexis Ajinca</td>\n",
       "      <td>C</td>\n",
       "      <td>0.0</td>\n",
       "      <td>4.5</td>\n",
       "      <td>0.6</td>\n",
       "    </tr>\n",
       "    <tr>\n",
       "      <th>3</th>\n",
       "      <td>Chris Andersen</td>\n",
       "      <td>C</td>\n",
       "      <td>0.0</td>\n",
       "      <td>2.6</td>\n",
       "      <td>0.6</td>\n",
       "    </tr>\n",
       "    <tr>\n",
       "      <th>4</th>\n",
       "      <td>Will Barton</td>\n",
       "      <td>SG</td>\n",
       "      <td>1.5</td>\n",
       "      <td>4.3</td>\n",
       "      <td>0.5</td>\n",
       "    </tr>\n",
       "    <tr>\n",
       "      <th>...</th>\n",
       "      <td>...</td>\n",
       "      <td>...</td>\n",
       "      <td>...</td>\n",
       "      <td>...</td>\n",
       "      <td>...</td>\n",
       "    </tr>\n",
       "    <tr>\n",
       "      <th>95</th>\n",
       "      <td>Nikola Vucevic</td>\n",
       "      <td>C</td>\n",
       "      <td>0.3</td>\n",
       "      <td>10.4</td>\n",
       "      <td>1.0</td>\n",
       "    </tr>\n",
       "    <tr>\n",
       "      <th>96</th>\n",
       "      <td>Dwyane Wade</td>\n",
       "      <td>SG</td>\n",
       "      <td>0.8</td>\n",
       "      <td>4.5</td>\n",
       "      <td>0.7</td>\n",
       "    </tr>\n",
       "    <tr>\n",
       "      <th>97</th>\n",
       "      <td>Dion Waiters</td>\n",
       "      <td>SG</td>\n",
       "      <td>1.8</td>\n",
       "      <td>3.3</td>\n",
       "      <td>0.4</td>\n",
       "    </tr>\n",
       "    <tr>\n",
       "      <th>98</th>\n",
       "      <td>Hassan Whiteside</td>\n",
       "      <td>C</td>\n",
       "      <td>0.0</td>\n",
       "      <td>14.1</td>\n",
       "      <td>2.1</td>\n",
       "    </tr>\n",
       "    <tr>\n",
       "      <th>99</th>\n",
       "      <td>Lou Williams</td>\n",
       "      <td>SG</td>\n",
       "      <td>2.0</td>\n",
       "      <td>2.5</td>\n",
       "      <td>0.2</td>\n",
       "    </tr>\n",
       "  </tbody>\n",
       "</table>\n",
       "<p>100 rows × 5 columns</p>\n",
       "</div>"
      ],
      "text/plain": [
       "              Player Pos   3P   TRB  BLK\n",
       "0       Alex Abrines  SG  1.4   1.3  0.1\n",
       "1       Steven Adams   C  0.0   7.7  1.0\n",
       "2      Alexis Ajinca   C  0.0   4.5  0.6\n",
       "3     Chris Andersen   C  0.0   2.6  0.6\n",
       "4        Will Barton  SG  1.5   4.3  0.5\n",
       "..               ...  ..  ...   ...  ...\n",
       "95    Nikola Vucevic   C  0.3  10.4  1.0\n",
       "96       Dwyane Wade  SG  0.8   4.5  0.7\n",
       "97      Dion Waiters  SG  1.8   3.3  0.4\n",
       "98  Hassan Whiteside   C  0.0  14.1  2.1\n",
       "99      Lou Williams  SG  2.0   2.5  0.2\n",
       "\n",
       "[100 rows x 5 columns]"
      ]
     },
     "execution_count": 13,
     "metadata": {},
     "output_type": "execute_result"
    }
   ],
   "source": [
    "# 판다스의 drop() 함수로 불필요한 컬럼 전체를 삭제할 수 있다.\n",
    "# axis 속성은 생략시 0이 기본값이며 행을 삭제하고 1을 쓰면 열을 삭제한다.\n",
    "# inplace 속성은 False가 기본값이며 함수가 실행된 결과를 데이터에 반영하지 않고 True를 쓰면 실행된 결과를 데이터에 반영한다.\n",
    "df.drop(['2P', 'AST', 'STL'], axis=1, inplace=True)\n",
    "df"
   ]
  },
  {
   "cell_type": "markdown",
   "id": "b91c8af9",
   "metadata": {},
   "source": [
    "데이터 나누기"
   ]
  },
  {
   "cell_type": "code",
   "execution_count": 14,
   "id": "312f1bfa",
   "metadata": {},
   "outputs": [],
   "source": [
    "# 학습 데이터와 테스트 데이터로 데이터를 분리하기 위해\n",
    "# sklearn의 train_test_split() 함수를 import한다.\n",
    "from sklearn.model_selection import train_test_split"
   ]
  },
  {
   "cell_type": "code",
   "execution_count": 15,
   "id": "263f8aa9",
   "metadata": {},
   "outputs": [
    {
     "name": "stdout",
     "output_type": "stream",
     "text": [
      "80\n",
      "20\n"
     ]
    }
   ],
   "source": [
    "# 데이터의 80%를 학습용 데이터로 사용하고 데이터의 20%를 테스트 데이터로 분리한다.\n",
    "train, test = train_test_split(df, train_size=0.8, test_size=0.2)\n",
    "print(train.shape[0])\n",
    "print(test.shape[0])"
   ]
  },
  {
   "cell_type": "code",
   "execution_count": null,
   "id": "89c13e03",
   "metadata": {},
   "outputs": [],
   "source": []
  }
 ],
 "metadata": {
  "kernelspec": {
   "display_name": "Python 3",
   "language": "python",
   "name": "python3"
  },
  "language_info": {
   "codemirror_mode": {
    "name": "ipython",
    "version": 3
   },
   "file_extension": ".py",
   "mimetype": "text/x-python",
   "name": "python",
   "nbconvert_exporter": "python",
   "pygments_lexer": "ipython3",
   "version": "3.6.8"
  }
 },
 "nbformat": 4,
 "nbformat_minor": 5
}
